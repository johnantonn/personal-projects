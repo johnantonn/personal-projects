{
  "nbformat": 4,
  "nbformat_minor": 0,
  "metadata": {
    "colab": {
      "provenance": [],
      "authorship_tag": "ABX9TyMvMXuxcfTR7yqwNgqIgb9z",
      "include_colab_link": true
    },
    "kernelspec": {
      "name": "python3",
      "display_name": "Python 3"
    },
    "language_info": {
      "name": "python"
    }
  },
  "cells": [
    {
      "cell_type": "markdown",
      "metadata": {
        "id": "view-in-github",
        "colab_type": "text"
      },
      "source": [
        "<a href=\"https://colab.research.google.com/github/johnantonn/deep-learning-practice/blob/main/functional_api.ipynb\" target=\"_parent\"><img src=\"https://colab.research.google.com/assets/colab-badge.svg\" alt=\"Open In Colab\"/></a>"
      ]
    },
    {
      "cell_type": "markdown",
      "source": [
        "### Keras Functional API\n",
        "\n",
        "The `Sequential API` has a limited applicability, i.e. stacking layers on top of each other in a sequential manner and dealing with a single input and output.\n",
        "\n",
        "The `Functional API` provides the capability to have multiple inputs and/or outputs and its components are stacked together to form the network DAG (Directed Acyclic Graph)."
      ],
      "metadata": {
        "id": "GDLr6Z4Ua1ug"
      }
    },
    {
      "cell_type": "code",
      "execution_count": 2,
      "metadata": {
        "id": "8sZupInraqmN"
      },
      "outputs": [],
      "source": [
        "from tensorflow import keras\n",
        "from tensorflow.keras import layers\n",
        "\n",
        "# simple example\n",
        "inputs = keras.Input(shape=(3,), name=\"my_input\")\n",
        "features = layers.Dense(64, activation=\"relu\")(inputs)\n",
        "outputs = layers.Dense(10, activation=\"softmax\")(features)\n",
        "model = keras.Model(inputs=inputs, outputs=outputs)"
      ]
    },
    {
      "cell_type": "markdown",
      "source": [
        "### Symbolic tensors\n",
        "\n",
        "We defined the `Input` layer by providing its shape as (3,). We call such constructs `symbolic tensors` since they don't contain any actualy data but store the specification of the future tensors.\n",
        "\n",
        "Note: all Keras layers can be called both on real tensors of data as well as on these symbolic tensors. In the latter case, they return a new symbolic tensor with a corresponding updated `shape` and `dtype` information."
      ],
      "metadata": {
        "id": "P4pJBVnjcyRN"
      }
    },
    {
      "cell_type": "code",
      "source": [
        "# print the metadata stored by the symbolic input tensor\n",
        "print(f\"Shape of inputs: {inputs.shape}\")\n",
        "print(f\"Data type of inputs: {inputs.dtype}\")"
      ],
      "metadata": {
        "colab": {
          "base_uri": "https://localhost:8080/"
        },
        "id": "AufBseg-dJrT",
        "outputId": "e44db54b-d786-417e-edbb-19be3f88e52b"
      },
      "execution_count": 4,
      "outputs": [
        {
          "output_type": "stream",
          "name": "stdout",
          "text": [
            "Shape of inputs: (None, 3)\n",
            "Data type of inputs: <dtype: 'float32'>\n"
          ]
        }
      ]
    },
    {
      "cell_type": "code",
      "source": [
        "# print model summary\n",
        "model.summary()"
      ],
      "metadata": {
        "colab": {
          "base_uri": "https://localhost:8080/"
        },
        "id": "7a0hSWA-dxHX",
        "outputId": "ecf0f88c-4d2b-4789-e5cb-8dc248fba333"
      },
      "execution_count": 5,
      "outputs": [
        {
          "output_type": "stream",
          "name": "stdout",
          "text": [
            "Model: \"model\"\n",
            "_________________________________________________________________\n",
            " Layer (type)                Output Shape              Param #   \n",
            "=================================================================\n",
            " my_input (InputLayer)       [(None, 3)]               0         \n",
            "                                                                 \n",
            " dense (Dense)               (None, 64)                256       \n",
            "                                                                 \n",
            " dense_1 (Dense)             (None, 10)                650       \n",
            "                                                                 \n",
            "=================================================================\n",
            "Total params: 906\n",
            "Trainable params: 906\n",
            "Non-trainable params: 0\n",
            "_________________________________________________________________\n"
          ]
        }
      ]
    }
  ]
}