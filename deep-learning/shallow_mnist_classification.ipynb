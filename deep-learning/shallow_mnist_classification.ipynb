{
  "nbformat": 4,
  "nbformat_minor": 0,
  "metadata": {
    "colab": {
      "provenance": [],
      "authorship_tag": "ABX9TyOqBF/WLTMSb6LFfuHFTgJd",
      "include_colab_link": true
    },
    "kernelspec": {
      "name": "python3",
      "display_name": "Python 3"
    },
    "language_info": {
      "name": "python"
    }
  },
  "cells": [
    {
      "cell_type": "markdown",
      "metadata": {
        "id": "view-in-github",
        "colab_type": "text"
      },
      "source": [
        "<a href=\"https://colab.research.google.com/github/johnantonn/deep-learning-practice/blob/main/shallow_mnist_classification.ipynb\" target=\"_parent\"><img src=\"https://colab.research.google.com/assets/colab-badge.svg\" alt=\"Open In Colab\"/></a>"
      ]
    },
    {
      "cell_type": "markdown",
      "source": [
        "# Image classification using the MNIST dataset\n",
        "This notebook contains the \"hello world\" example for deep learning, i.e. learning a neural network model to predict the digit class of 28x28 images.\n",
        "\n",
        "The training set is comprised of 60k samples while the test set includes 10k samples for model evaluation. The model is built using the Keras framework."
      ],
      "metadata": {
        "id": "D7_deZTrYHB0"
      }
    },
    {
      "cell_type": "code",
      "execution_count": 74,
      "metadata": {
        "id": "R9Cvl4W2X4sx"
      },
      "outputs": [],
      "source": [
        "import tensorflow as tf\n",
        "from tensorflow.keras.datasets import mnist"
      ]
    },
    {
      "cell_type": "code",
      "source": [
        "# load training and test data\n",
        "(x_train, y_train), (x_test, y_test) = mnist.load_data()"
      ],
      "metadata": {
        "id": "SNBtmPHPY2Zd"
      },
      "execution_count": 75,
      "outputs": []
    },
    {
      "cell_type": "code",
      "source": [
        "# print numpy array shapes\n",
        "print(f\"Shape of training images: {x_train.shape}\")\n",
        "print(f\"Shape of training labels: {y_train.shape}\" )\n",
        "print(f\"Shape of test images: {x_test.shape}\" )\n",
        "print(f\"Shape of test labels: {y_test.shape}\" )\n",
        "\n",
        "import matplotlib.pyplot as plt\n",
        "\n",
        "# show digit\n",
        "print(\"\\nExample digit:\\n\")\n",
        "digit = x_train[2]\n",
        "plt.imshow(digit, cmap=plt.cm.binary)\n",
        "plt.show"
      ],
      "metadata": {
        "colab": {
          "base_uri": "https://localhost:8080/",
          "height": 404
        },
        "id": "OJ-m6W8AZJum",
        "outputId": "a648df24-de81-42ee-b26b-ed91ef4e0e07"
      },
      "execution_count": 76,
      "outputs": [
        {
          "output_type": "stream",
          "name": "stdout",
          "text": [
            "Shape of training images: (60000, 28, 28)\n",
            "Shape of training labels: (60000,)\n",
            "Shape of test images: (10000, 28, 28)\n",
            "Shape of test labels: (10000,)\n",
            "\n",
            "Example digit:\n",
            "\n"
          ]
        },
        {
          "output_type": "execute_result",
          "data": {
            "text/plain": [
              "<function matplotlib.pyplot.show(*args, **kw)>"
            ]
          },
          "metadata": {},
          "execution_count": 76
        },
        {
          "output_type": "display_data",
          "data": {
            "text/plain": [
              "<Figure size 432x288 with 1 Axes>"
            ],
            "image/png": "[encoded data removed]"
          },
          "metadata": {
            "needs_background": "light"
          }
        }
      ]
    },
    {
      "cell_type": "code",
      "source": [
        "from tensorflow.keras import Sequential\n",
        "from tensorflow.keras.layers import Dense\n",
        "\n",
        "# define a shallow 2-layer neural network model\n",
        "model = Sequential(\n",
        "    [\n",
        "        Dense(512, activation=\"relu\"),\n",
        "        Dense(10, activation=\"softmax\")\n",
        "    ]\n",
        ")\n",
        "\n",
        "# compile the model\n",
        "model.compile(\n",
        "    optimizer=\"rmsprop\",\n",
        "    loss=\"sparse_categorical_crossentropy\",\n",
        "    metrics=[\"accuracy\"]\n",
        ")"
      ],
      "metadata": {
        "id": "kUrePv7MZN8d"
      },
      "execution_count": 77,
      "outputs": []
    },
    {
      "cell_type": "code",
      "source": [
        "# preprocess the image/feature data\n",
        "x_train = x_train.reshape((60000, 28*28))\n",
        "x_train = x_train.astype(\"float32\")/255\n",
        "x_test = x_test.reshape((10000, 28*28))\n",
        "x_test = x_test.astype(\"float32\")/255"
      ],
      "metadata": {
        "id": "PBPr21CQall_"
      },
      "execution_count": 78,
      "outputs": []
    },
    {
      "cell_type": "code",
      "source": [
        "# train the model on 5 epochs\n",
        "history = model.fit(x_train, y_train, epochs=5, batch_size=128)"
      ],
      "metadata": {
        "colab": {
          "base_uri": "https://localhost:8080/"
        },
        "id": "Ly1t3iEsbj7o",
        "outputId": "0b07f090-6949-464b-e86d-902e0d65a4b2"
      },
      "execution_count": 79,
      "outputs": [
        {
          "output_type": "stream",
          "name": "stdout",
          "text": [
            "Epoch 1/5\n",
            "469/469 [==============================] - 5s 11ms/step - loss: 0.2650 - accuracy: 0.9242\n",
            "Epoch 2/5\n",
            "469/469 [==============================] - 4s 9ms/step - loss: 0.1082 - accuracy: 0.9680\n",
            "Epoch 3/5\n",
            "469/469 [==============================] - 4s 9ms/step - loss: 0.0716 - accuracy: 0.9789\n",
            "Epoch 4/5\n",
            "469/469 [==============================] - 5s 11ms/step - loss: 0.0510 - accuracy: 0.9848\n",
            "Epoch 5/5\n",
            "469/469 [==============================] - 4s 10ms/step - loss: 0.0390 - accuracy: 0.9886\n"
          ]
        }
      ]
    },
    {
      "cell_type": "code",
      "source": [
        "# evaluate the model on the test data\n",
        "test_loss, test_accuracy = model.evaluate(x_test, y_test)\n",
        "print(f\"test_loss: {test_loss}\")\n",
        "print(f\"test_accuracy: {test_accuracy}\")"
      ],
      "metadata": {
        "colab": {
          "base_uri": "https://localhost:8080/"
        },
        "id": "KvaWwG2mcG5x",
        "outputId": "4bde972a-7474-45a6-eb47-5831073c3afe"
      },
      "execution_count": 80,
      "outputs": [
        {
          "output_type": "stream",
          "name": "stdout",
          "text": [
            "313/313 [==============================] - 1s 3ms/step - loss: 0.0717 - accuracy: 0.9774\n",
            "test_loss: 0.07172907888889313\n",
            "test_accuracy: 0.977400004863739\n"
          ]
        }
      ]
    },
    {
      "cell_type": "code",
      "source": [
        "# individual predictions\n",
        "test_digits = x_test[0:5]\n",
        "test_labels = y_test[0:5]\n",
        "predictions = model.predict(test_digits)\n",
        "for i in range(len(test_digits)):\n",
        "  print(f\"For digit {test_labels[i]} the model predicted: {predictions[i].argmax()}\")"
      ],
      "metadata": {
        "colab": {
          "base_uri": "https://localhost:8080/"
        },
        "id": "mypw6kJHeYBC",
        "outputId": "d6eab2c2-c903-47a6-c576-76a0ba76660a"
      },
      "execution_count": 81,
      "outputs": [
        {
          "output_type": "stream",
          "name": "stdout",
          "text": [
            "1/1 [==============================] - 0s 55ms/step\n",
            "For digit 7 the model predicted: 7\n",
            "For digit 2 the model predicted: 2\n",
            "For digit 1 the model predicted: 1\n",
            "For digit 0 the model predicted: 0\n",
            "For digit 4 the model predicted: 4\n"
          ]
        }
      ]
    }
  ]
}