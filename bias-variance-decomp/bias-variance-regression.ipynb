{
 "cells": [
  {
   "cell_type": "markdown",
   "id": "78b2783f-2cfc-4b36-9aae-46b2572a0860",
   "metadata": {},
   "source": [
    "### Bias-Variance Decomposition (Regression)\n",
    "\n",
    "This notebook experiments with the decomposition of the performance error of several off-the-shelf sklearn regression algorithms to its bias and variance components. The list of estimators includes:\n",
    "- Decision tree\n",
    "- Random forest\n",
    "- Bagging\n",
    "- Gradient Boosting\n",
    "- Linear regression\n",
    "- Bayesian regression\n",
    "\n",
    "The bias-variance decomposition is based on the mean squared error loss."
   ]
  },
  {
   "cell_type": "code",
   "execution_count": 1,
   "id": "6f25d9a8-e808-42c0-af91-e92038c03371",
   "metadata": {},
   "outputs": [],
   "source": [
    "import numpy as np\n",
    "import matplotlib.pyplot as plt\n",
    "from mlxtend.data import boston_housing_data\n",
    "from mlxtend.evaluate import bias_variance_decomp\n",
    "from sklearn.model_selection import train_test_split\n",
    "from sklearn.linear_model import LinearRegression, BayesianRidge\n",
    "from sklearn.tree import DecisionTreeRegressor\n",
    "from sklearn.ensemble import RandomForestRegressor, \\\n",
    "    BaggingRegressor, GradientBoostingRegressor"
   ]
  },
  {
   "cell_type": "code",
   "execution_count": 2,
   "id": "c031ceff-57d7-4b34-b4b9-79f88cce03a1",
   "metadata": {},
   "outputs": [
    {
     "name": "stdout",
     "output_type": "stream",
     "text": [
      "X: (506, 13)\n",
      "X_train: (354, 13)\n",
      "X_test: (152, 13)\n"
     ]
    }
   ],
   "source": [
    "# load features, labels\n",
    "X, y = boston_housing_data()\n",
    "\n",
    "# split to train/test\n",
    "X_train, X_test, y_train, y_test = train_test_split(\n",
    "    X, \n",
    "    y,\n",
    "    test_size=0.3,                                                   \n",
    "    random_state=123,                                                  \n",
    "    shuffle=True # shuffle split\n",
    ")\n",
    "\n",
    "print('X:', X.shape)\n",
    "print('X_train:', X_train.shape)\n",
    "print('X_test:', X_test.shape)"
   ]
  },
  {
   "cell_type": "code",
   "execution_count": 4,
   "id": "d66affcd-03f0-4e33-bd3f-80a60bb29de9",
   "metadata": {},
   "outputs": [
    {
     "name": "stdout",
     "output_type": "stream",
     "text": [
      "Computing loss for DecisionTree\n",
      "Computing loss for RandomForest\n",
      "Computing loss for Bagging\n",
      "Computing loss for GradientBoosting\n",
      "Computing loss for LinearRegression\n",
      "Computing loss for BayesianRidge\n"
     ]
    }
   ],
   "source": [
    "# estimators\n",
    "estimators = {\n",
    "    'DecisionTree': DecisionTreeRegressor(random_state=123),\n",
    "    'RandomForest': RandomForestRegressor(n_estimators=100, random_state=123),\n",
    "    'Bagging': BaggingRegressor(n_estimators=100,random_state=123),\n",
    "    'GradientBoosting': GradientBoostingRegressor(n_estimators=100, random_state=123),\n",
    "    'LinearRegression': LinearRegression(),\n",
    "    'BayesianRidge': BayesianRidge()\n",
    "}\n",
    "\n",
    "# loss\n",
    "avg_loss = [] # average expected loss\n",
    "avg_bias = [] # average loss due to bias\n",
    "avg_var = [] # average loss due to variance\n",
    "\n",
    "# decomp loop\n",
    "for est_name, est in estimators.items():\n",
    "    print('Computing loss for', est_name)\n",
    "    loss, bias, var = bias_variance_decomp(\n",
    "        est,\n",
    "        X_train,\n",
    "        y_train,\n",
    "        X_test,\n",
    "        y_test, \n",
    "        loss='mse',\n",
    "        random_seed=123\n",
    "    )\n",
    "    # store results\n",
    "    avg_loss.append(loss)\n",
    "    avg_bias.append(bias)\n",
    "    avg_var.append(var)    "
   ]
  },
  {
   "cell_type": "code",
   "execution_count": 5,
   "id": "c10e71ff-dc8d-42cf-8b79-ed6f0a74d051",
   "metadata": {},
   "outputs": [
    {
     "data": {
      "image/png": "[encoded data removed]",
      "text/plain": [
       "<Figure size 1080x360 with 1 Axes>"
      ]
     },
     "metadata": {
      "needs_background": "light"
     },
     "output_type": "display_data"
    }
   ],
   "source": [
    "# plot results\n",
    "est_names = list(estimators.keys())\n",
    "ind = np.arange(len(est_names))\n",
    "width = 0.25\n",
    "#\n",
    "fig, (ax) = plt.subplots(figsize=(15, 5))\n",
    "ax.bar(ind, avg_loss, width)\n",
    "ax.bar(ind+width, avg_bias, width)\n",
    "ax.bar(ind+2*width, avg_var, width)\n",
    "ax.set_title('Bias-variance decomposition')\n",
    "ax.set_xticks(ind + width)\n",
    "ax.set_xticklabels(est_names)\n",
    "ax.legend(['Total', 'Bias', 'Variance'])\n",
    "ax.set_ylabel('Loss')\n",
    "plt.show()"
   ]
  }
 ],
 "metadata": {
  "kernelspec": {
   "display_name": "Python 3 (ipykernel)",
   "language": "python",
   "name": "python3"
  },
  "language_info": {
   "codemirror_mode": {
    "name": "ipython",
    "version": 3
   },
   "file_extension": ".py",
   "mimetype": "text/x-python",
   "name": "python",
   "nbconvert_exporter": "python",
   "pygments_lexer": "ipython3",
   "version": "3.10.2"
  }
 },
 "nbformat": 4,
 "nbformat_minor": 5
}
