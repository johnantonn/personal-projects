{
 "cells": [
  {
   "cell_type": "markdown",
   "id": "78b2783f-2cfc-4b36-9aae-46b2572a0860",
   "metadata": {},
   "source": [
    "### Bias-Variance Decomposition (Classification)\n",
    "\n",
    "This notebook experiments with the decomposition of the performance error of several off-the-shelf scikit-learn classifiers to its bias and variance components. The list of classifiers includes:\n",
    "- Decision tree\n",
    "- Random forest\n",
    "- Bagging\n",
    "- Gradient Boosting\n",
    "- Naive Bayes\n",
    "- Multiclass logistic regression\n",
    "\n",
    "The bias-variance decomposition is based on the cross entropy loss."
   ]
  },
  {
   "cell_type": "code",
   "execution_count": 1,
   "id": "6f25d9a8-e808-42c0-af91-e92038c03371",
   "metadata": {},
   "outputs": [],
   "source": [
    "import numpy as np\n",
    "import matplotlib.pyplot as plt\n",
    "from mlxtend.data import iris_data\n",
    "from mlxtend.evaluate import bias_variance_decomp\n",
    "from sklearn.model_selection import train_test_split\n",
    "from sklearn.tree import DecisionTreeClassifier\n",
    "from sklearn.ensemble import RandomForestClassifier, \\\n",
    "    BaggingClassifier, GradientBoostingClassifier\n",
    "from sklearn.naive_bayes import GaussianNB\n",
    "from sklearn.linear_model import LogisticRegression"
   ]
  },
  {
   "cell_type": "code",
   "execution_count": 2,
   "id": "c99567e3-2f36-4a6f-8fe3-851598d5421d",
   "metadata": {},
   "outputs": [
    {
     "name": "stdout",
     "output_type": "stream",
     "text": [
      "X: (150, 4)\n",
      "X_train: (105, 4)\n",
      "X_test: (45, 4)\n"
     ]
    }
   ],
   "source": [
    "# load features and labels\n",
    "X, y = iris_data()\n",
    "\n",
    "# split to train/test\n",
    "X_train, X_test, y_train, y_test = train_test_split(\n",
    "    X,\n",
    "    y,\n",
    "    test_size=0.3,\n",
    "    random_state=123,\n",
    "    shuffle=True,\n",
    "    stratify=y # keep class ratio during split\n",
    ")\n",
    "\n",
    "print('X:', X.shape)\n",
    "print('X_train:', X_train.shape)\n",
    "print('X_test:', X_test.shape)"
   ]
  },
  {
   "cell_type": "code",
   "execution_count": 3,
   "id": "d66affcd-03f0-4e33-bd3f-80a60bb29de9",
   "metadata": {},
   "outputs": [
    {
     "name": "stdout",
     "output_type": "stream",
     "text": [
      "Computing loss for DecisionTree\n",
      "Computing loss for RandomForest\n",
      "Computing loss for Bagging\n",
      "Computing loss for GradientBoosting\n",
      "Computing loss for GaussianNB\n",
      "Computing loss for LogisticRegression\n"
     ]
    }
   ],
   "source": [
    "# classifiers\n",
    "classifiers = {\n",
    "    'DecisionTree': DecisionTreeClassifier(random_state=123),\n",
    "    'RandomForest': RandomForestClassifier(n_estimators=100, random_state=123),\n",
    "    'Bagging': BaggingClassifier(n_estimators=100,random_state=123),\n",
    "    'GradientBoosting': GradientBoostingClassifier(n_estimators=100, random_state=123),\n",
    "    'GaussianNB': GaussianNB(),\n",
    "    'LogisticRegression': LogisticRegression(multi_class='multinomial', solver='newton-cg'),\n",
    "}\n",
    "\n",
    "# loss\n",
    "avg_loss = [] # average expected loss\n",
    "avg_bias = [] # average loss due to bias\n",
    "avg_var = [] # average loss due to variance\n",
    "\n",
    "# decomp loop\n",
    "for clf_name, clf in classifiers.items():\n",
    "    print('Computing loss for', clf_name)\n",
    "    loss, bias, var = bias_variance_decomp(\n",
    "        clf,\n",
    "        X_train,\n",
    "        y_train,\n",
    "        X_test,\n",
    "        y_test,\n",
    "        loss='0-1_loss',\n",
    "        random_seed=123\n",
    "    )\n",
    "    # store results\n",
    "    avg_loss.append(loss)\n",
    "    avg_bias.append(bias)\n",
    "    avg_var.append(var)"
   ]
  },
  {
   "cell_type": "code",
   "execution_count": 4,
   "id": "1f5e8206-dae0-47d2-b166-7a122292fb8f",
   "metadata": {},
   "outputs": [
    {
     "data": {
      "image/png": "[encoded data removed]",
      "text/plain": [
       "<Figure size 1080x360 with 1 Axes>"
      ]
     },
     "metadata": {
      "needs_background": "light"
     },
     "output_type": "display_data"
    }
   ],
   "source": [
    "# plot results\n",
    "c_names = list(classifiers.keys())\n",
    "ind = np.arange(len(c_names))\n",
    "width = 0.25\n",
    "#\n",
    "fig, (ax) = plt.subplots(figsize=(15, 5))\n",
    "ax.bar(ind, avg_loss, width)\n",
    "ax.bar(ind+width, avg_bias, width)\n",
    "ax.bar(ind+2*width, avg_var, width)\n",
    "ax.set_title('Bias-variance decomposition')\n",
    "ax.set_xticks(ind + width)\n",
    "ax.set_xticklabels(c_names)\n",
    "ax.legend(['Total', 'Bias', 'Variance'])\n",
    "ax.set_ylabel('Loss')\n",
    "plt.show()"
   ]
  }
 ],
 "metadata": {
  "kernelspec": {
   "display_name": "Python 3 (ipykernel)",
   "language": "python",
   "name": "python3"
  },
  "language_info": {
   "codemirror_mode": {
    "name": "ipython",
    "version": 3
   },
   "file_extension": ".py",
   "mimetype": "text/x-python",
   "name": "python",
   "nbconvert_exporter": "python",
   "pygments_lexer": "ipython3",
   "version": "3.10.2"
  }
 },
 "nbformat": 4,
 "nbformat_minor": 5
}
