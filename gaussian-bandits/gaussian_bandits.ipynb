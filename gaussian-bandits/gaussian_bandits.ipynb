{
 "cells": [
  {
   "cell_type": "markdown",
   "metadata": {},
   "source": [
    "### Gaussian Bandits\n",
    "This notebook experiments with Gaussian multi-armed bandits and different action selection functions:\n",
    "- Random\n",
    "- epsilon-greedy\n",
    "- epsillon-decay-greedy\n",
    "- Upper Confidence Bound (UCB)"
   ]
  },
  {
   "cell_type": "code",
   "execution_count": 1,
   "metadata": {},
   "outputs": [],
   "source": [
    "import random\n",
    "import numpy as np\n",
    "import matplotlib.pyplot as plt"
   ]
  },
  {
   "cell_type": "code",
   "execution_count": 2,
   "metadata": {},
   "outputs": [],
   "source": [
    "# Class definitions\n",
    "#\n",
    "class Bandit:\n",
    "    \"\"\"\n",
    "    Bandit class\n",
    "    \"\"\"\n",
    "    def __init__(self, name, arms, solver='egreedy'):\n",
    "        self.name = name # pseudo-name\n",
    "        self.t = 0 # time (in steps)\n",
    "        self.K = len(arms) # number of arms\n",
    "        self.solver = solver\n",
    "        self.arms = arms # arms\n",
    "        self.counts = np.zeros(self.K, dtype=int) # pulls per arm\n",
    "        self.rewards = {i: [] for i in range(self.K)} # rewards per arm\n",
    "        self.policy = np.array([]) # sequence of played arms\n",
    "        self.policy_payoff = np.array([]) # policy payoff\n",
    "\n",
    "    def select_arm(self):\n",
    "        \"\"\" Select the arm to pull next \"\"\"\n",
    "        # increase time step\n",
    "        self.t += 1\n",
    "        # warmstart: play every arm at least once\n",
    "        is_zero = np.where(self.counts == 0)[0]\n",
    "        if len(is_zero) > 0:\n",
    "            est = {i: 0.0 for i in range(self.K)}\n",
    "            for j in is_zero:\n",
    "                est[j] = 1.0\n",
    "        # suggestion based on solver\n",
    "        else:\n",
    "            if self.solver == 'random':\n",
    "                est = random_(self.K)\n",
    "            elif self.solver == 'egreedy':\n",
    "                est = egreedy(self.K, self.t, self.rewards)\n",
    "            elif self.solver == 'edecaygreedy':\n",
    "                est = egreedy(self.K, self.t, self.rewards, decay=True)\n",
    "            elif self.solver == 'ucb':\n",
    "                est = ucb(self.K, self.t, self.counts, self.rewards)\n",
    "            else:\n",
    "                raise Exception('Invalid solver name')\n",
    "        # final decision\n",
    "        i = max(est, key=est.get)\n",
    "        self.policy = np.append(self.policy, i)\n",
    "        return i\n",
    "\n",
    "    def pull_arm(self, arm_index):\n",
    "        \"\"\" Pull the selected arm \"\"\"\n",
    "        r = self.arms[arm_index].pull()\n",
    "        self.rewards[arm_index].append(r)\n",
    "        self.counts[arm_index] += 1\n",
    "        self.policy_payoff = np.append(self.policy_payoff, r)\n",
    "\n",
    "    def get_best_arm(self):\n",
    "        \"\"\" Get the arm with the highest average reward \"\"\"\n",
    "        mean_r = {i: np.mean(r) for i, r in self.rewards.items()}\n",
    "        best_arm_index = max(mean_r, key=mean_r.get)\n",
    "        return self.arms[best_arm_index]\n",
    "\n",
    "    def get_policy_payoff(self):\n",
    "        \"\"\" Compute the average reward for the chosen policy \"\"\"\n",
    "        return np.mean(self.policy_payoff)\n",
    "#\n",
    "class GaussianArm:\n",
    "    \"\"\" \n",
    "    Gaussian Arm class\n",
    "    \"\"\"\n",
    "    def __init__(self, name, mu, sig):\n",
    "        self.name = name # pseudo-name\n",
    "        self.mu = mu # mean \n",
    "        self.sig = sig # standard deviation\n",
    "\n",
    "    def pull(self):\n",
    "        r = np.random.normal(self.mu, self.sig)\n",
    "        return r"
   ]
  },
  {
   "cell_type": "code",
   "execution_count": 3,
   "metadata": {},
   "outputs": [],
   "source": [
    "# Action selection functions\n",
    "#\n",
    "def random_(K):\n",
    "    \"\"\"\n",
    "    K: number of arms\n",
    "    \"\"\"\n",
    "    est = {i: random.random() for i in range(K)}\n",
    "    return est\n",
    "\n",
    "def egreedy(K, t, R, epsilon=0.1, decay=False):\n",
    "    \"\"\"\n",
    "    K: number of arms\n",
    "    t: current timestep\n",
    "    R: sequence of past rewards\n",
    "    epsilon: the epsilon constant\n",
    "    decay: decreasing epsilon over time\n",
    "    \"\"\"\n",
    "    if decay:\n",
    "        epsilon = 1.0 / np.log(t + 0.00001)\n",
    "    if np.random.uniform(0.0, 1.0) > epsilon:\n",
    "        est = {i: np.mean(r) for i, r in R.items()} # exploitation\n",
    "    else:\n",
    "        est = {i: np.random.uniform(0.0, 1.0) for i in range(K)} # exploration\n",
    "    return est\n",
    "\n",
    "def ucb(K, t, counts, R):\n",
    "    \"\"\"\n",
    "    K = the number of arms (domains)\n",
    "    t = current timestep\n",
    "    counts = the total number of trials\n",
    "    R = the sequence of past rewards\n",
    "    \"\"\"\n",
    "    est = {}\n",
    "    for i, r in R.items():\n",
    "        n_i = counts[i]\n",
    "        mu_i = np.mean(r)\n",
    "        bound = np.sqrt((2 * np.log(t)) / n_i) # At = Qt(A) + c*sqrt(lnt/Nt(a))\n",
    "        est[i] = mu_i + bound\n",
    "    return est"
   ]
  },
  {
   "cell_type": "code",
   "execution_count": 4,
   "metadata": {},
   "outputs": [
    {
     "name": "stdout",
     "output_type": "stream",
     "text": [
      "Random\n",
      "\tBest arm: a5\n",
      "\tAverage payoff: 14.49848156281739\n",
      "Epsilon-greedy\n",
      "\tBest arm: a5\n",
      "\tAverage payoff: 19.75044807639787\n",
      "Epsilon-decay-greedy\n",
      "\tBest arm: a5\n",
      "\tAverage payoff: 19.297890170603168\n",
      "UCB\n",
      "\tBest arm: a5\n",
      "\tAverage payoff: 20.090854653207277\n"
     ]
    }
   ],
   "source": [
    "# Define gaussian arms\n",
    "arms = [\n",
    "    GaussianArm(name='a1', mu=10.0, sig=5.0),\n",
    "    GaussianArm(name='a2', mu=12.0, sig=4.0),\n",
    "    GaussianArm(name='a3', mu=15.0, sig=4.0),\n",
    "    GaussianArm(name='a4', mu=17.0, sig=3.0),\n",
    "    GaussianArm(name='a5', mu=20.0, sig=5.0),\n",
    "    # add more arms\n",
    "]\n",
    "\n",
    "# Define bandit\n",
    "b1 = Bandit('Random', arms, 'random') # random solver\n",
    "b2 = Bandit('Epsilon-greedy', arms, 'egreedy') # epsilon-greedy solver\n",
    "b3 = Bandit('Epsilon-decay-greedy', arms, 'edecaygreedy') # epsilon-decay-greedy solver\n",
    "b4 = Bandit('UCB', arms, 'ucb') # UCB solver\n",
    "\n",
    "# Define budget (in steps)\n",
    "budget = 1000\n",
    "\n",
    "# Play\n",
    "for b in [b1, b2, b3, b4]:\n",
    "    while b.t <= budget:\n",
    "        # select arm\n",
    "        arm_index = b.select_arm()\n",
    "        # pull arm\n",
    "        b.pull_arm(arm_index)\n",
    "    # Print results\n",
    "    print(b.name)\n",
    "    print('\\tBest arm:', b.get_best_arm().name)\n",
    "    print('\\tAverage payoff:', b.get_policy_payoff())"
   ]
  },
  {
   "cell_type": "code",
   "execution_count": 5,
   "metadata": {},
   "outputs": [
    {
     "data": {
      "text/plain": [
       "<matplotlib.legend.Legend at 0x218a5269640>"
      ]
     },
     "execution_count": 5,
     "metadata": {},
     "output_type": "execute_result"
    },
    {
     "data": {
      "image/png": "[encoded data removed]",
      "text/plain": [
       "<Figure size 576x576 with 1 Axes>"
      ]
     },
     "metadata": {
      "needs_background": "light"
     },
     "output_type": "display_data"
    }
   ],
   "source": [
    "# Results\n",
    "#\n",
    "# Cumulative reward distributions\n",
    "cdf1 = np.cumsum(b1.policy_payoff)\n",
    "cdf2 = np.cumsum(b2.policy_payoff)\n",
    "cdf3 = np.cumsum(b3.policy_payoff)\n",
    "cdf4 = np.cumsum(b4.policy_payoff)\n",
    "# plot CDFs\n",
    "plt.figure(figsize=(8, 8))\n",
    "plt.plot(cdf1, label=\"Random\")\n",
    "plt.plot(cdf2, label=\"e-greedy\")\n",
    "plt.plot(cdf3, label=\"e-decay-greedy\")\n",
    "plt.plot(cdf4, label=\"UCB\")\n",
    "plt.title('Cumulative reward distributions')\n",
    "plt.legend()"
   ]
  },
  {
   "cell_type": "code",
   "execution_count": null,
   "metadata": {},
   "outputs": [],
   "source": []
  }
 ],
 "metadata": {
  "kernelspec": {
   "display_name": "Python 3",
   "language": "python",
   "name": "python3"
  },
  "language_info": {
   "codemirror_mode": {
    "name": "ipython",
    "version": 3
   },
   "file_extension": ".py",
   "mimetype": "text/x-python",
   "name": "python",
   "nbconvert_exporter": "python",
   "pygments_lexer": "ipython3",
   "version": "3.8.5"
  }
 },
 "nbformat": 4,
 "nbformat_minor": 4
}
